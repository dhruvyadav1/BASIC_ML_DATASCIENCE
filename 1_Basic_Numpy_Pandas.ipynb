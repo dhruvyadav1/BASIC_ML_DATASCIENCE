{
  "nbformat": 4,
  "nbformat_minor": 0,
  "metadata": {
    "colab": {
      "name": "1.Basic_Numpy_Pandas.ipynb",
      "provenance": []
    },
    "kernelspec": {
      "name": "python3",
      "display_name": "Python 3"
    }
  },
  "cells": [
    {
      "cell_type": "markdown",
      "metadata": {
        "id": "-3tUjybrCNOs",
        "colab_type": "text"
      },
      "source": [
        "#NumPy"
      ]
    },
    {
      "cell_type": "code",
      "metadata": {
        "id": "gDDpwRLY_buM",
        "colab_type": "code",
        "colab": {}
      },
      "source": [
        "import numpy as np"
      ],
      "execution_count": 0,
      "outputs": []
    },
    {
      "cell_type": "markdown",
      "metadata": {
        "id": "bbGn0p2H_2Ab",
        "colab_type": "text"
      },
      "source": [
        "#let's generate a random 2-D array using numpy"
      ]
    },
    {
      "cell_type": "code",
      "metadata": {
        "id": "bW17OQL0_irn",
        "colab_type": "code",
        "colab": {
          "base_uri": "https://localhost:8080/",
          "height": 119
        },
        "outputId": "47bbab11-f467-489e-b848-fdf3e6d09d82"
      },
      "source": [
        "a = np.random.randn(3,5)\n",
        "b = np.random.randn(3,5)\n",
        "print(f\"a = {a}\")\n",
        "print(f\"b = {b}\")"
      ],
      "execution_count": 2,
      "outputs": [
        {
          "output_type": "stream",
          "text": [
            "a = [[-0.26885267 -0.19158572  0.00662714 -1.02562138 -0.12142203]\n",
            " [-0.49522899 -0.2416549  -1.40475175 -0.28075195  0.76011423]\n",
            " [ 0.3808041   0.84416287 -0.91868343 -0.53948039 -1.115433  ]]\n",
            "b = [[ 1.12393929  0.58935097 -0.18468009  0.41333168 -0.73494678]\n",
            " [-0.10225807 -0.61570819 -0.62543426  0.43110188  0.807341  ]\n",
            " [-0.80102412  0.336472    0.19787748 -1.62993268  0.29120998]]\n"
          ],
          "name": "stdout"
        }
      ]
    },
    {
      "cell_type": "markdown",
      "metadata": {
        "id": "xTuXhmNEAGgE",
        "colab_type": "text"
      },
      "source": [
        "\"Sequential array using numpy\""
      ]
    },
    {
      "cell_type": "code",
      "metadata": {
        "id": "qOmvOD3iAAnA",
        "colab_type": "code",
        "colab": {}
      },
      "source": [
        "c = np.arange(100)\n",
        "#array of 100 numbers from 1 to 100\n",
        "d = np.zeros((2,3))\n",
        "#array of zeros"
      ],
      "execution_count": 0,
      "outputs": []
    },
    {
      "cell_type": "code",
      "metadata": {
        "id": "WDufzscBAenS",
        "colab_type": "code",
        "colab": {
          "base_uri": "https://localhost:8080/",
          "height": 170
        },
        "outputId": "699b24d2-e620-4c21-a5aa-fc3eb507e37c"
      },
      "source": [
        "print('c')\n",
        "print(c)\n",
        "print('d')\n",
        "print(d)"
      ],
      "execution_count": 4,
      "outputs": [
        {
          "output_type": "stream",
          "text": [
            "c\n",
            "[ 0  1  2  3  4  5  6  7  8  9 10 11 12 13 14 15 16 17 18 19 20 21 22 23\n",
            " 24 25 26 27 28 29 30 31 32 33 34 35 36 37 38 39 40 41 42 43 44 45 46 47\n",
            " 48 49 50 51 52 53 54 55 56 57 58 59 60 61 62 63 64 65 66 67 68 69 70 71\n",
            " 72 73 74 75 76 77 78 79 80 81 82 83 84 85 86 87 88 89 90 91 92 93 94 95\n",
            " 96 97 98 99]\n",
            "d\n",
            "[[0. 0. 0.]\n",
            " [0. 0. 0.]]\n"
          ],
          "name": "stdout"
        }
      ]
    },
    {
      "cell_type": "markdown",
      "metadata": {
        "id": "woSpC1L9Atkc",
        "colab_type": "text"
      },
      "source": [
        "\"Making array from a 2-d list\""
      ]
    },
    {
      "cell_type": "code",
      "metadata": {
        "id": "semIwyH8AssL",
        "colab_type": "code",
        "colab": {
          "base_uri": "https://localhost:8080/",
          "height": 34
        },
        "outputId": "c9939af1-56f5-4900-e824-62b73872ffd6"
      },
      "source": [
        "e = [[1,2,3],[4,5,6],[7,8,9]]\n",
        "e_arr = np.array(e)\n",
        "print(e)"
      ],
      "execution_count": 5,
      "outputs": [
        {
          "output_type": "stream",
          "text": [
            "[[1, 2, 3], [4, 5, 6], [7, 8, 9]]\n"
          ],
          "name": "stdout"
        }
      ]
    },
    {
      "cell_type": "markdown",
      "metadata": {
        "id": "tvm3FG5oBGIs",
        "colab_type": "text"
      },
      "source": [
        "\"Matrix of Ones and Identity Matrix\""
      ]
    },
    {
      "cell_type": "code",
      "metadata": {
        "id": "7b0TFu-BAk-4",
        "colab_type": "code",
        "colab": {}
      },
      "source": [
        "f = np.ones((5,5))\n",
        "g = np.eye(5)"
      ],
      "execution_count": 0,
      "outputs": []
    },
    {
      "cell_type": "code",
      "metadata": {
        "id": "TKxNA7P0BTQi",
        "colab_type": "code",
        "colab": {
          "base_uri": "https://localhost:8080/",
          "height": 221
        },
        "outputId": "ba62b6bb-772f-48c5-a97f-0b24a86edd0b"
      },
      "source": [
        "print(\"Ones : \")\n",
        "print(f)\n",
        "print(\"Identity\")\n",
        "print(g)"
      ],
      "execution_count": 7,
      "outputs": [
        {
          "output_type": "stream",
          "text": [
            "Ones : \n",
            "[[1. 1. 1. 1. 1.]\n",
            " [1. 1. 1. 1. 1.]\n",
            " [1. 1. 1. 1. 1.]\n",
            " [1. 1. 1. 1. 1.]\n",
            " [1. 1. 1. 1. 1.]]\n",
            "Identity\n",
            "[[1. 0. 0. 0. 0.]\n",
            " [0. 1. 0. 0. 0.]\n",
            " [0. 0. 1. 0. 0.]\n",
            " [0. 0. 0. 1. 0.]\n",
            " [0. 0. 0. 0. 1.]]\n"
          ],
          "name": "stdout"
        }
      ]
    },
    {
      "cell_type": "markdown",
      "metadata": {
        "id": "wrHVb4OtBjkT",
        "colab_type": "text"
      },
      "source": [
        "#Now, let's see the use of various numpy attributes"
      ]
    },
    {
      "cell_type": "code",
      "metadata": {
        "id": "As3BnkT7BaX2",
        "colab_type": "code",
        "colab": {
          "base_uri": "https://localhost:8080/",
          "height": 102
        },
        "outputId": "568b7ede-6ce5-4f5e-e575-3b6fc03968e4"
      },
      "source": [
        "print(c)"
      ],
      "execution_count": 8,
      "outputs": [
        {
          "output_type": "stream",
          "text": [
            "[ 0  1  2  3  4  5  6  7  8  9 10 11 12 13 14 15 16 17 18 19 20 21 22 23\n",
            " 24 25 26 27 28 29 30 31 32 33 34 35 36 37 38 39 40 41 42 43 44 45 46 47\n",
            " 48 49 50 51 52 53 54 55 56 57 58 59 60 61 62 63 64 65 66 67 68 69 70 71\n",
            " 72 73 74 75 76 77 78 79 80 81 82 83 84 85 86 87 88 89 90 91 92 93 94 95\n",
            " 96 97 98 99]\n"
          ],
          "name": "stdout"
        }
      ]
    },
    {
      "cell_type": "code",
      "metadata": {
        "id": "rF9G5ZTpBrRf",
        "colab_type": "code",
        "colab": {}
      },
      "source": [
        "#let's reshape this to a 10*10 matrix"
      ],
      "execution_count": 0,
      "outputs": []
    },
    {
      "cell_type": "code",
      "metadata": {
        "id": "C5A8kja4Byvy",
        "colab_type": "code",
        "colab": {}
      },
      "source": [
        "h = c.reshape((10,10))"
      ],
      "execution_count": 0,
      "outputs": []
    },
    {
      "cell_type": "code",
      "metadata": {
        "id": "HK9qmhxRB1x_",
        "colab_type": "code",
        "colab": {}
      },
      "source": [
        "#Now, let's flatten this again"
      ],
      "execution_count": 0,
      "outputs": []
    },
    {
      "cell_type": "code",
      "metadata": {
        "id": "qFpCp91XB8Mj",
        "colab_type": "code",
        "colab": {}
      },
      "source": [
        "c1 = h.flatten()"
      ],
      "execution_count": 0,
      "outputs": []
    },
    {
      "cell_type": "code",
      "metadata": {
        "id": "2DjqIbT5B_r7",
        "colab_type": "code",
        "colab": {
          "base_uri": "https://localhost:8080/",
          "height": 307
        },
        "outputId": "1756754d-fc92-404e-d02e-6dac4f05ce68"
      },
      "source": [
        "print(\"Reshaped\")\n",
        "print(h)\n",
        "print(\"Flattened\")\n",
        "print(c1)"
      ],
      "execution_count": 13,
      "outputs": [
        {
          "output_type": "stream",
          "text": [
            "Reshaped\n",
            "[[ 0  1  2  3  4  5  6  7  8  9]\n",
            " [10 11 12 13 14 15 16 17 18 19]\n",
            " [20 21 22 23 24 25 26 27 28 29]\n",
            " [30 31 32 33 34 35 36 37 38 39]\n",
            " [40 41 42 43 44 45 46 47 48 49]\n",
            " [50 51 52 53 54 55 56 57 58 59]\n",
            " [60 61 62 63 64 65 66 67 68 69]\n",
            " [70 71 72 73 74 75 76 77 78 79]\n",
            " [80 81 82 83 84 85 86 87 88 89]\n",
            " [90 91 92 93 94 95 96 97 98 99]]\n",
            "Flattened\n",
            "[ 0  1  2  3  4  5  6  7  8  9 10 11 12 13 14 15 16 17 18 19 20 21 22 23\n",
            " 24 25 26 27 28 29 30 31 32 33 34 35 36 37 38 39 40 41 42 43 44 45 46 47\n",
            " 48 49 50 51 52 53 54 55 56 57 58 59 60 61 62 63 64 65 66 67 68 69 70 71\n",
            " 72 73 74 75 76 77 78 79 80 81 82 83 84 85 86 87 88 89 90 91 92 93 94 95\n",
            " 96 97 98 99]\n"
          ],
          "name": "stdout"
        }
      ]
    },
    {
      "cell_type": "markdown",
      "metadata": {
        "id": "GgN52S_NCXHY",
        "colab_type": "text"
      },
      "source": [
        "\"Transpose of Matrix\""
      ]
    },
    {
      "cell_type": "code",
      "metadata": {
        "id": "09MT36cnCIs7",
        "colab_type": "code",
        "colab": {}
      },
      "source": [
        "A = np.random.rand(2,10)\n",
        "#Let A1 be the transpose of the Matrix A\n",
        "A1 = A.transpose()"
      ],
      "execution_count": 0,
      "outputs": []
    },
    {
      "cell_type": "code",
      "metadata": {
        "id": "P672a-gdCwbQ",
        "colab_type": "code",
        "colab": {
          "base_uri": "https://localhost:8080/",
          "height": 290
        },
        "outputId": "d291ae37-659e-4ba2-e123-4bd9afa6c427"
      },
      "source": [
        "print(\"A\")\n",
        "print(A)\n",
        "print(\"A_transpose\")\n",
        "print(A1)"
      ],
      "execution_count": 16,
      "outputs": [
        {
          "output_type": "stream",
          "text": [
            "A\n",
            "[[0.31403957 0.66761581 0.49073499 0.63211278 0.63624509 0.90404353\n",
            "  0.15246688 0.89319197 0.45389319 0.10858115]\n",
            " [0.28846904 0.05637069 0.86105012 0.253271   0.73629369 0.13973605\n",
            "  0.50710253 0.31369266 0.78214316 0.80288975]]\n",
            "A_transpose\n",
            "[[0.31403957 0.28846904]\n",
            " [0.66761581 0.05637069]\n",
            " [0.49073499 0.86105012]\n",
            " [0.63211278 0.253271  ]\n",
            " [0.63624509 0.73629369]\n",
            " [0.90404353 0.13973605]\n",
            " [0.15246688 0.50710253]\n",
            " [0.89319197 0.31369266]\n",
            " [0.45389319 0.78214316]\n",
            " [0.10858115 0.80288975]]\n"
          ],
          "name": "stdout"
        }
      ]
    },
    {
      "cell_type": "markdown",
      "metadata": {
        "id": "gkO9KGdYC8j7",
        "colab_type": "text"
      },
      "source": [
        "#3-D Matrix Transpose"
      ]
    },
    {
      "cell_type": "code",
      "metadata": {
        "id": "iEBYqPO4CxdR",
        "colab_type": "code",
        "colab": {}
      },
      "source": [
        "A = np.random.randn(2,3,4)\n",
        "A1 = A.transpose((2,0,1))"
      ],
      "execution_count": 0,
      "outputs": []
    },
    {
      "cell_type": "code",
      "metadata": {
        "id": "EeBHX_AhDK-d",
        "colab_type": "code",
        "colab": {
          "base_uri": "https://localhost:8080/",
          "height": 409
        },
        "outputId": "d6c1c3ba-5d62-4e81-f032-ce83d8e53a64"
      },
      "source": [
        "print(\"A  : \")\n",
        "print(A)\n",
        "print('\\n\\n')\n",
        "print(\"A_transpose  : \")\n",
        "print(A1)"
      ],
      "execution_count": 21,
      "outputs": [
        {
          "output_type": "stream",
          "text": [
            "A  : \n",
            "[[[-0.42725843  1.46076686 -1.1460751   0.85800809]\n",
            "  [ 0.28395761 -0.2105557  -0.68357861  0.42393591]\n",
            "  [ 0.45622243  1.9935336   1.53298182 -0.2802158 ]]\n",
            "\n",
            " [[ 0.56821402  0.05718084  0.1660881  -1.34899865]\n",
            "  [ 1.68517397 -2.23699917  0.07813587  1.4022178 ]\n",
            "  [-0.25287468  0.8811308  -1.86315449 -0.42134975]]]\n",
            "\n",
            "\n",
            "\n",
            "A_transpose  : \n",
            "[[[-0.42725843  0.28395761  0.45622243]\n",
            "  [ 0.56821402  1.68517397 -0.25287468]]\n",
            "\n",
            " [[ 1.46076686 -0.2105557   1.9935336 ]\n",
            "  [ 0.05718084 -2.23699917  0.8811308 ]]\n",
            "\n",
            " [[-1.1460751  -0.68357861  1.53298182]\n",
            "  [ 0.1660881   0.07813587 -1.86315449]]\n",
            "\n",
            " [[ 0.85800809  0.42393591 -0.2802158 ]\n",
            "  [-1.34899865  1.4022178  -0.42134975]]]\n"
          ],
          "name": "stdout"
        }
      ]
    },
    {
      "cell_type": "markdown",
      "metadata": {
        "id": "TyJ9YRF4DmPz",
        "colab_type": "text"
      },
      "source": [
        "#Min Max of Matrix"
      ]
    },
    {
      "cell_type": "code",
      "metadata": {
        "id": "3UvDNGXGDrwU",
        "colab_type": "code",
        "colab": {}
      },
      "source": [
        "\"Let's create a matrix of random numbers :\"\n",
        "\n",
        "X = np.random.rand(10,5)"
      ],
      "execution_count": 0,
      "outputs": []
    },
    {
      "cell_type": "code",
      "metadata": {
        "id": "-nXyrkiID3DP",
        "colab_type": "code",
        "colab": {
          "base_uri": "https://localhost:8080/",
          "height": 187
        },
        "outputId": "c69d0ca0-bc4e-4b70-d94a-d2265acee70f"
      },
      "source": [
        "print(X)"
      ],
      "execution_count": 23,
      "outputs": [
        {
          "output_type": "stream",
          "text": [
            "[[0.17126482 0.42858323 0.51435769 0.05610717 0.75205056]\n",
            " [0.27353556 0.22200444 0.27445706 0.32591048 0.71087359]\n",
            " [0.4984723  0.77504664 0.78726769 0.9334449  0.1145006 ]\n",
            " [0.3145208  0.16334228 0.72759075 0.37848976 0.3637405 ]\n",
            " [0.33857497 0.13075739 0.98471575 0.73088788 0.44973034]\n",
            " [0.34292671 0.30680021 0.22438159 0.25589347 0.44076491]\n",
            " [0.52486886 0.3147193  0.39093453 0.85036083 0.14290071]\n",
            " [0.98495859 0.36780466 0.75041045 0.79841354 0.45977385]\n",
            " [0.47988519 0.28911566 0.06921247 0.30162501 0.87590128]\n",
            " [0.23940269 0.3779591  0.5310919  0.03195152 0.96547187]]\n"
          ],
          "name": "stdout"
        }
      ]
    },
    {
      "cell_type": "markdown",
      "metadata": {
        "id": "DXwEh8O8D6ED",
        "colab_type": "text"
      },
      "source": [
        "\"Let's see the rowise, columnwise min max and their indexes\""
      ]
    },
    {
      "cell_type": "code",
      "metadata": {
        "id": "jovBftcUD34g",
        "colab_type": "code",
        "colab": {
          "base_uri": "https://localhost:8080/",
          "height": 392
        },
        "outputId": "dc232845-f433-4e72-9545-821252f5cd89"
      },
      "source": [
        "print(\"ROW WISE : \\n\")\n",
        "print(np.min(X,axis=0),\"\\n\",np.argmin(X,axis=0))\n",
        "print(np.max(X,axis=0),\"\\n\",np.argmax(X,axis=0))\n",
        "print('\\n')\n",
        "print(\"COLUMN WISE : \\n\")\n",
        "print(np.min(X,axis=1),\"\\n\",np.argmin(X,axis=1))\n",
        "print(np.max(X,axis=1),\"\\n\",np.argmax(X,axis=1))\n",
        "print('\\n')\n",
        "print(\"Overall : \\n\")\n",
        "print(np.min(X),np.argmin(X))\n",
        "print(np.max(X),np.argmax(X))"
      ],
      "execution_count": 25,
      "outputs": [
        {
          "output_type": "stream",
          "text": [
            "ROW WISE : \n",
            "\n",
            "[0.17126482 0.13075739 0.06921247 0.03195152 0.1145006 ] \n",
            " [0 4 8 9 2]\n",
            "[0.98495859 0.77504664 0.98471575 0.9334449  0.96547187] \n",
            " [7 2 4 2 9]\n",
            "\n",
            "\n",
            "COLUMN WISE : \n",
            "\n",
            "[0.05610717 0.22200444 0.1145006  0.16334228 0.13075739 0.22438159\n",
            " 0.14290071 0.36780466 0.06921247 0.03195152] \n",
            " [3 1 4 1 1 2 4 1 2 3]\n",
            "[0.75205056 0.71087359 0.9334449  0.72759075 0.98471575 0.44076491\n",
            " 0.85036083 0.98495859 0.87590128 0.96547187] \n",
            " [4 4 3 2 2 4 3 0 4 4]\n",
            "\n",
            "\n",
            "Overall : \n",
            "\n",
            "0.031951516460564044 48\n",
            "0.984958586296156 35\n"
          ],
          "name": "stdout"
        }
      ]
    },
    {
      "cell_type": "markdown",
      "metadata": {
        "id": "DdPursylMGyP",
        "colab_type": "text"
      },
      "source": [
        "#Mean and Standard Deviation"
      ]
    },
    {
      "cell_type": "code",
      "metadata": {
        "id": "Zcmux-HvEsoL",
        "colab_type": "code",
        "colab": {
          "base_uri": "https://localhost:8080/",
          "height": 221
        },
        "outputId": "7ff89b66-c8c9-4a86-8869-41e4e60e50b7"
      },
      "source": [
        "print(\"ABOUT AXIS 1 and 0 : \\n\")\n",
        "print(np.mean(X,axis=1),np.mean(X,axis=0))\n",
        "print(np.std(X,axis=1),np.std(X,axis=0))\n",
        "print('\\n')\n",
        "print(\"OVERALL : \\n\")\n",
        "print(np.mean(X))\n",
        "print(np.std(X))"
      ],
      "execution_count": 29,
      "outputs": [
        {
          "output_type": "stream",
          "text": [
            "ABOUT AXIS 1 and 0 : \n",
            "\n",
            "[0.38447269 0.36135623 0.62174643 0.38953682 0.52693327 0.31415338\n",
            " 0.44475685 0.67227222 0.40314792 0.42917541] [0.41684105 0.33761329 0.52544199 0.46630846 0.52757082]\n",
            "[0.24787531 0.17782106 0.2900169  0.18539651 0.29985221 0.07532018\n",
            " 0.23742631 0.22700045 0.26989164 0.31445969] [0.21896407 0.17103027 0.27404073 0.3165057  0.27581004]\n",
            "\n",
            "\n",
            "OVERALL : \n",
            "\n",
            "0.45475512083697983\n",
            "0.2661330130906192\n"
          ],
          "name": "stdout"
        }
      ]
    },
    {
      "cell_type": "markdown",
      "metadata": {
        "id": "wrfAUpLhMrKt",
        "colab_type": "text"
      },
      "source": [
        "Linear Algebra"
      ]
    },
    {
      "cell_type": "code",
      "metadata": {
        "id": "CGuVV4uGMSSy",
        "colab_type": "code",
        "colab": {
          "base_uri": "https://localhost:8080/",
          "height": 1000
        },
        "outputId": "b3d8f637-73d2-4ea3-8ed1-205ce7f7ea6d"
      },
      "source": [
        "np.random.seed(3)\n",
        "\n",
        "Y = np.random.rand(10,10)\n",
        "print(\"DETERMINANT \\n\")\n",
        "print(np.linalg.det(Y))\n",
        "print(\"\\n\")\n",
        "print(\"Rank\\n\")\n",
        "#this will give the determinant of the matrix \n",
        "print(np.linalg.matrix_rank(Y))\n",
        "#this will give the rank\n",
        "print(\"\\n\")\n",
        "print(\"Diagonal\\n\")\n",
        "print(np.diag(Y))\n",
        "print(\"\\n\")\n",
        "print(\"Trace\\n\")\n",
        "#this will give the diagonal elements of matrix\n",
        "print(np.trace(Y))\n",
        "print(\"\\n\")\n",
        "print(\"Eigen Values \\n\")\n",
        "#this will give the trace of the matrix\n",
        "print(np.linalg.eigvals(Y))\n",
        "print(\"\\n\")\n",
        "print(\"SVD \\n\")\n",
        "#this will give the eigenvalues\n",
        "print(np.linalg.svd(Y))\n",
        "print(\"\\n\")\n",
        "print(\"Inverse \\n\")\n",
        "#this will give the singular value decomposition\n",
        "print(np.linalg.pinv(Y))\n",
        "print(\"\\n\")\n",
        "print(\"Matrix Multiplication \\n\")\n",
        "#this will give the inverse of matrix\n",
        "print(np.matmul(Y,X))\n",
        "print(\"\\n\")\n",
        "print(\"\\n\")\n",
        "#this will give the matrix multipication\n",
        "print(np.dot(Y,np.linalg.pinv(Y)))"
      ],
      "execution_count": 32,
      "outputs": [
        {
          "output_type": "stream",
          "text": [
            "DETERMINANT \n",
            "\n",
            "-0.012807808169095483\n",
            "\n",
            "\n",
            "Rank\n",
            "\n",
            "10\n",
            "\n",
            "\n",
            "Diagonal\n",
            "\n",
            "[0.5507979  0.45683322 0.44045372 0.84575087 0.4576864  0.36217621\n",
            " 0.06152893 0.19897603 0.92672568 0.19638058]\n",
            "\n",
            "\n",
            "Trace\n",
            "\n",
            "4.497309545724899\n",
            "\n",
            "\n",
            "Eigen Values \n",
            "\n",
            "[ 4.797525  +0.j          0.72411408+0.52238181j  0.72411408-0.52238181j\n",
            " -0.48250062+0.55413671j -0.48250062-0.55413671j -0.6909002 +0.j\n",
            " -0.25905659+0.32357377j -0.25905659-0.32357377j  0.2127855 +0.08352477j\n",
            "  0.2127855 -0.08352477j]\n",
            "\n",
            "\n",
            "SVD \n",
            "\n",
            "(array([[-0.31776408, -0.02455508, -0.60644878, -0.17883359, -0.12672161,\n",
            "         0.14873878, -0.17823942, -0.52859453, -0.02295855, -0.38570883],\n",
            "       [-0.26118514, -0.10864541, -0.24911354,  0.26547359,  0.52168399,\n",
            "        -0.25773901, -0.46995326,  0.21752636, -0.39285046,  0.16234491],\n",
            "       [-0.31347907, -0.34483471, -0.25292297,  0.1214296 ,  0.1486964 ,\n",
            "         0.33436315,  0.54080229,  0.48017168,  0.05660692, -0.20966421],\n",
            "       [-0.35815379,  0.59490017,  0.30255161,  0.15850614, -0.11046295,\n",
            "         0.3051409 ,  0.07395537,  0.03044889, -0.50561658, -0.18384856],\n",
            "       [-0.28385845, -0.18085696, -0.1583078 ,  0.10535533, -0.46807835,\n",
            "        -0.08377643,  0.24075452, -0.16170764, -0.24786952,  0.69201648],\n",
            "       [-0.28871348, -0.27577124,  0.40271105,  0.60433658,  0.11931679,\n",
            "        -0.04899205,  0.02593316, -0.44875145,  0.27874747, -0.12964796],\n",
            "       [-0.27897316,  0.00398904,  0.20819753, -0.52536617,  0.41116881,\n",
            "        -0.41991923,  0.42687225, -0.24145621, -0.12958507, -0.00984813],\n",
            "       [-0.24788529,  0.48136836, -0.15792433, -0.02303902,  0.3246308 ,\n",
            "         0.25755952, -0.01429533, -0.03088365,  0.56052488,  0.44079262],\n",
            "       [-0.37505167, -0.36728578,  0.39799373, -0.45186801, -0.10830044,\n",
            "         0.34456765, -0.4447402 ,  0.14147957,  0.0716725 ,  0.09192695],\n",
            "       [-0.40049601,  0.19846099, -0.02705464,  0.02500837, -0.39745062,\n",
            "        -0.57941613, -0.10288216,  0.3673956 ,  0.33321483, -0.22039139]]), array([4.89636645, 1.42832104, 1.17173389, 0.94068764, 0.76892251,\n",
            "       0.62457278, 0.52105948, 0.28969576, 0.24512275, 0.09350223]), array([[-0.28816735, -0.35560525, -0.33294235, -0.33250662, -0.36658188,\n",
            "        -0.3625847 , -0.26573249, -0.23278667, -0.30457183, -0.29270444],\n",
            "       [ 0.53693497,  0.11306854,  0.39562078,  0.25099719, -0.07369559,\n",
            "        -0.37753546, -0.08584363,  0.00333609, -0.2399022 , -0.51623983],\n",
            "       [-0.084609  , -0.22589744, -0.00306935,  0.1954239 , -0.327784  ,\n",
            "        -0.49318928,  0.42323124,  0.18588504,  0.58200169,  0.02301787],\n",
            "       [ 0.01388163, -0.2631197 ,  0.42190391, -0.53612946,  0.01058633,\n",
            "        -0.04415909,  0.29385139,  0.49501812, -0.32731018,  0.15669071],\n",
            "       [-0.27340804,  0.28220631,  0.28945859, -0.1626885 ,  0.14790418,\n",
            "        -0.35915036, -0.64971879,  0.23854611,  0.29589227,  0.1337842 ],\n",
            "       [ 0.10830593,  0.27974551, -0.20571161,  0.10308827,  0.10096026,\n",
            "        -0.5325142 ,  0.15994871, -0.16150892, -0.3941055 ,  0.59692177],\n",
            "       [ 0.44882085,  0.34972045, -0.01773924, -0.50737391, -0.52251393,\n",
            "         0.11970007, -0.02807841, -0.20137782,  0.25705553,  0.15409283],\n",
            "       [-0.35599817, -0.05022624,  0.63427946,  0.20935183, -0.34847081,\n",
            "         0.11510691,  0.03182222, -0.47748403, -0.1161671 ,  0.21777064],\n",
            "       [ 0.18417681, -0.32168889,  0.15954963, -0.32397524,  0.5548368 ,\n",
            "        -0.1807982 ,  0.08626619, -0.55063636,  0.28439362, -0.01119242],\n",
            "       [-0.41560913,  0.59522266,  0.02089304, -0.23979844,  0.13515565,\n",
            "        -0.0893732 ,  0.44674689, -0.10709455, -0.02239562, -0.42098815]]))\n",
            "\n",
            "\n",
            "Inverse \n",
            "\n",
            "[[ 2.31470983 -1.92264991  0.7642126   0.78096977 -2.74248585  1.20175092\n",
            "   0.38693174 -1.37664514 -0.96484143  0.83123246]\n",
            " [-2.24504111  1.25605742 -0.91466223 -0.39587642  4.71823627 -1.32162185\n",
            "   0.52594984  2.39368168  0.33051878 -2.33540101]\n",
            " [-1.41290916  0.66149939  0.94968095 -0.18869248 -0.50069581 -0.55664939\n",
            "  -0.55275157  0.57384943 -0.04209635  1.11025544]\n",
            " [ 0.88051129  0.37055438  0.15632501  1.25248223 -1.81219563 -0.7249179\n",
            "  -0.19613524 -1.81766381  0.56943994  0.52226388]\n",
            " [ 0.39743656 -0.28842728 -1.09880632 -1.57965965  0.36480771  0.90235521\n",
            "  -0.47743451  2.09911148  0.53638288 -0.04562024]\n",
            " [ 0.36068175  0.22958502  0.33426258  0.10367281 -0.06700744 -0.37158555\n",
            "   0.22972702 -1.26286862 -0.45133033  0.75430018]\n",
            " [-2.01045364  0.19347423 -1.01393804 -0.74303568  3.56449935 -0.31892146\n",
            "  -0.67116163  2.01265699  0.72873355 -0.69454601]\n",
            " [ 1.18043988  0.86047396 -0.88991494  1.30425635 -0.14247318  0.69661973\n",
            "   0.5413572  -1.69774697 -0.60797727 -1.00698216]\n",
            " [-0.1679456  -0.63197036 -0.0540802  -0.73587818 -0.46423184  0.67805628\n",
            "   0.88551393  0.37662528 -0.03416891  0.42341327]\n",
            " [ 1.3938872  -0.74982353  1.96636643  1.00676681 -3.21953806  0.44078124\n",
            "  -0.40298654 -1.90114336 -0.04414834  0.55576763]]\n",
            "\n",
            "\n",
            "Matrix Multiplication \n",
            "\n",
            "[[1.60367299 1.3911586  2.60105281 1.91044941 2.51728956]\n",
            " [1.7596561  1.37747319 2.32006634 2.0654223  1.97562912]\n",
            " [1.74881762 1.59714567 2.31885895 1.89475007 2.79203714]\n",
            " [2.34651487 2.08358346 3.22419215 2.85389062 2.7174603 ]\n",
            " [1.70310173 1.39949399 2.10845014 1.91535872 2.2576958 ]\n",
            " [2.26545503 1.67740709 2.43741033 2.46459313 2.48051437]\n",
            " [1.65204624 1.32125837 1.87642797 1.67128291 2.53993532]\n",
            " [1.36253405 1.35577926 2.29372565 1.82917161 1.8675052 ]\n",
            " [2.25958907 1.63917135 2.83585783 2.47826039 3.24769502]\n",
            " [2.45210085 2.12705413 3.2304286  2.98575222 2.88739196]]\n",
            "\n",
            "\n",
            "\n",
            "\n",
            "[[ 1.00000000e+00  9.85715154e-16  2.29412704e-15 -3.84473001e-15\n",
            "   8.43560798e-16  1.88453652e-15  3.17169943e-16 -5.43891993e-15\n",
            "   2.16400940e-15 -1.37598624e-15]\n",
            " [-2.26617895e-16  1.00000000e+00  1.86152909e-15 -3.64622514e-15\n",
            "   1.82408092e-15  1.04956548e-15 -3.67165507e-17 -2.94758131e-15\n",
            "   2.44840551e-15 -1.41493814e-15]\n",
            " [ 1.08167816e-15  3.05377056e-16  1.00000000e+00 -3.71094196e-15\n",
            "   4.00589280e-16  2.08200353e-15 -2.78313099e-16 -5.38624160e-15\n",
            "   2.52019283e-15 -8.17703303e-16]\n",
            " [-9.24430272e-16  3.96295058e-16  2.34558227e-15  1.00000000e+00\n",
            "   3.38617602e-15  2.90616521e-15  1.10771875e-16 -4.07891735e-15\n",
            "   2.80844112e-15 -2.51873853e-15]\n",
            " [ 1.19403087e-15 -1.80308699e-16  3.30509947e-15 -2.91463369e-15\n",
            "   1.00000000e+00  1.92155945e-15 -1.52891821e-16 -4.84325072e-15\n",
            "   2.20394078e-15 -9.39212993e-16]\n",
            " [-4.06319903e-17  5.60016416e-16  2.44359474e-15 -3.30211121e-15\n",
            "   1.36817541e-15  1.00000000e+00  5.16952243e-16 -4.53382245e-15\n",
            "   2.24616068e-15 -1.47191556e-15]\n",
            " [ 1.64088949e-17 -1.08628685e-16  1.96759093e-15 -3.93006388e-15\n",
            "   1.79832201e-15  2.26674089e-15  1.00000000e+00 -3.08760626e-15\n",
            "   2.39233786e-15 -1.57424120e-15]\n",
            " [-2.53614386e-16  6.12853505e-16  1.65281190e-15 -3.44711678e-15\n",
            "   2.52567926e-15  1.42541149e-15 -4.37404121e-17  1.00000000e+00\n",
            "   1.98995356e-15 -1.56131782e-15]\n",
            " [-5.45098283e-16  6.70718152e-16  2.54229649e-15 -5.65418062e-15\n",
            "   2.89027178e-15  2.95961848e-15 -1.45649331e-16 -4.34759231e-15\n",
            "   1.00000000e+00 -1.53033889e-15]\n",
            " [ 1.74881065e-17  5.78154131e-16  2.95772650e-15 -5.66259938e-15\n",
            "   3.07866427e-15  2.50504111e-15  1.74659596e-16 -4.27038361e-15\n",
            "   3.23080107e-15  1.00000000e+00]]\n"
          ],
          "name": "stdout"
        }
      ]
    },
    {
      "cell_type": "markdown",
      "metadata": {
        "id": "wwftBRnMOyc1",
        "colab_type": "text"
      },
      "source": [
        "PANDAS AND VISUALIZATION"
      ]
    },
    {
      "cell_type": "code",
      "metadata": {
        "id": "ox1xaUTBNkFB",
        "colab_type": "code",
        "colab": {}
      },
      "source": [
        "import matplotlib.pyplot as plt\n",
        "import pandas as pd"
      ],
      "execution_count": 0,
      "outputs": []
    },
    {
      "cell_type": "markdown",
      "metadata": {
        "id": "-H-ojdA_PCFN",
        "colab_type": "text"
      },
      "source": [
        "\"We will be using titanic dataset for practice\""
      ]
    },
    {
      "cell_type": "code",
      "metadata": {
        "id": "coltppjcO4cB",
        "colab_type": "code",
        "colab": {}
      },
      "source": [
        "file_url = \"http://biostat.mc.vanderbilt.edu/wiki/pub/Main/DataSets/titanic3.csv\"\n",
        "#this is the url from where we can download the dataset"
      ],
      "execution_count": 0,
      "outputs": []
    },
    {
      "cell_type": "markdown",
      "metadata": {
        "id": "3rMRaK0sPSbT",
        "colab_type": "text"
      },
      "source": [
        "\"Reading the file as a DATAFRAME\""
      ]
    },
    {
      "cell_type": "code",
      "metadata": {
        "id": "bV2UMCxaPJXQ",
        "colab_type": "code",
        "colab": {}
      },
      "source": [
        "data = pd.read_csv(file_url)"
      ],
      "execution_count": 0,
      "outputs": []
    },
    {
      "cell_type": "code",
      "metadata": {
        "id": "u1sn4jLoPaty",
        "colab_type": "code",
        "colab": {}
      },
      "source": [
        "#to view the first 5 rows of the DataFrame"
      ],
      "execution_count": 0,
      "outputs": []
    },
    {
      "cell_type": "code",
      "metadata": {
        "id": "9Q-KR2KmPeye",
        "colab_type": "code",
        "colab": {
          "base_uri": "https://localhost:8080/",
          "height": 504
        },
        "outputId": "05799171-e02c-4193-9638-eec2cb610c3b"
      },
      "source": [
        "data.head()"
      ],
      "execution_count": 38,
      "outputs": [
        {
          "output_type": "execute_result",
          "data": {
            "text/html": [
              "<div>\n",
              "<style scoped>\n",
              "    .dataframe tbody tr th:only-of-type {\n",
              "        vertical-align: middle;\n",
              "    }\n",
              "\n",
              "    .dataframe tbody tr th {\n",
              "        vertical-align: top;\n",
              "    }\n",
              "\n",
              "    .dataframe thead th {\n",
              "        text-align: right;\n",
              "    }\n",
              "</style>\n",
              "<table border=\"1\" class=\"dataframe\">\n",
              "  <thead>\n",
              "    <tr style=\"text-align: right;\">\n",
              "      <th></th>\n",
              "      <th>pclass</th>\n",
              "      <th>survived</th>\n",
              "      <th>name</th>\n",
              "      <th>sex</th>\n",
              "      <th>age</th>\n",
              "      <th>sibsp</th>\n",
              "      <th>parch</th>\n",
              "      <th>ticket</th>\n",
              "      <th>fare</th>\n",
              "      <th>cabin</th>\n",
              "      <th>embarked</th>\n",
              "      <th>boat</th>\n",
              "      <th>body</th>\n",
              "      <th>home.dest</th>\n",
              "    </tr>\n",
              "  </thead>\n",
              "  <tbody>\n",
              "    <tr>\n",
              "      <th>0</th>\n",
              "      <td>1</td>\n",
              "      <td>1</td>\n",
              "      <td>Allen, Miss. Elisabeth Walton</td>\n",
              "      <td>female</td>\n",
              "      <td>29.00</td>\n",
              "      <td>0</td>\n",
              "      <td>0</td>\n",
              "      <td>24160</td>\n",
              "      <td>211.3375</td>\n",
              "      <td>B5</td>\n",
              "      <td>S</td>\n",
              "      <td>2</td>\n",
              "      <td>NaN</td>\n",
              "      <td>St Louis, MO</td>\n",
              "    </tr>\n",
              "    <tr>\n",
              "      <th>1</th>\n",
              "      <td>1</td>\n",
              "      <td>1</td>\n",
              "      <td>Allison, Master. Hudson Trevor</td>\n",
              "      <td>male</td>\n",
              "      <td>0.92</td>\n",
              "      <td>1</td>\n",
              "      <td>2</td>\n",
              "      <td>113781</td>\n",
              "      <td>151.5500</td>\n",
              "      <td>C22 C26</td>\n",
              "      <td>S</td>\n",
              "      <td>11</td>\n",
              "      <td>NaN</td>\n",
              "      <td>Montreal, PQ / Chesterville, ON</td>\n",
              "    </tr>\n",
              "    <tr>\n",
              "      <th>2</th>\n",
              "      <td>1</td>\n",
              "      <td>0</td>\n",
              "      <td>Allison, Miss. Helen Loraine</td>\n",
              "      <td>female</td>\n",
              "      <td>2.00</td>\n",
              "      <td>1</td>\n",
              "      <td>2</td>\n",
              "      <td>113781</td>\n",
              "      <td>151.5500</td>\n",
              "      <td>C22 C26</td>\n",
              "      <td>S</td>\n",
              "      <td>NaN</td>\n",
              "      <td>NaN</td>\n",
              "      <td>Montreal, PQ / Chesterville, ON</td>\n",
              "    </tr>\n",
              "    <tr>\n",
              "      <th>3</th>\n",
              "      <td>1</td>\n",
              "      <td>0</td>\n",
              "      <td>Allison, Mr. Hudson Joshua Creighton</td>\n",
              "      <td>male</td>\n",
              "      <td>30.00</td>\n",
              "      <td>1</td>\n",
              "      <td>2</td>\n",
              "      <td>113781</td>\n",
              "      <td>151.5500</td>\n",
              "      <td>C22 C26</td>\n",
              "      <td>S</td>\n",
              "      <td>NaN</td>\n",
              "      <td>135.0</td>\n",
              "      <td>Montreal, PQ / Chesterville, ON</td>\n",
              "    </tr>\n",
              "    <tr>\n",
              "      <th>4</th>\n",
              "      <td>1</td>\n",
              "      <td>0</td>\n",
              "      <td>Allison, Mrs. Hudson J C (Bessie Waldo Daniels)</td>\n",
              "      <td>female</td>\n",
              "      <td>25.00</td>\n",
              "      <td>1</td>\n",
              "      <td>2</td>\n",
              "      <td>113781</td>\n",
              "      <td>151.5500</td>\n",
              "      <td>C22 C26</td>\n",
              "      <td>S</td>\n",
              "      <td>NaN</td>\n",
              "      <td>NaN</td>\n",
              "      <td>Montreal, PQ / Chesterville, ON</td>\n",
              "    </tr>\n",
              "  </tbody>\n",
              "</table>\n",
              "</div>"
            ],
            "text/plain": [
              "   pclass  survived  ...   body                        home.dest\n",
              "0       1         1  ...    NaN                     St Louis, MO\n",
              "1       1         1  ...    NaN  Montreal, PQ / Chesterville, ON\n",
              "2       1         0  ...    NaN  Montreal, PQ / Chesterville, ON\n",
              "3       1         0  ...  135.0  Montreal, PQ / Chesterville, ON\n",
              "4       1         0  ...    NaN  Montreal, PQ / Chesterville, ON\n",
              "\n",
              "[5 rows x 14 columns]"
            ]
          },
          "metadata": {
            "tags": []
          },
          "execution_count": 38
        }
      ]
    },
    {
      "cell_type": "code",
      "metadata": {
        "id": "-scmszquPgg4",
        "colab_type": "code",
        "colab": {
          "base_uri": "https://localhost:8080/",
          "height": 68
        },
        "outputId": "bbd7acd6-4db4-476b-dfca-73536237a7e0"
      },
      "source": [
        "#to view all the columns\n",
        "data.columns"
      ],
      "execution_count": 39,
      "outputs": [
        {
          "output_type": "execute_result",
          "data": {
            "text/plain": [
              "Index(['pclass', 'survived', 'name', 'sex', 'age', 'sibsp', 'parch', 'ticket',\n",
              "       'fare', 'cabin', 'embarked', 'boat', 'body', 'home.dest'],\n",
              "      dtype='object')"
            ]
          },
          "metadata": {
            "tags": []
          },
          "execution_count": 39
        }
      ]
    },
    {
      "cell_type": "markdown",
      "metadata": {
        "id": "nLenv5l5PpSz",
        "colab_type": "text"
      },
      "source": [
        "#Generating Dummies"
      ]
    },
    {
      "cell_type": "code",
      "metadata": {
        "id": "TxwvgWERPmHR",
        "colab_type": "code",
        "colab": {}
      },
      "source": [
        "sex = pd.get_dummies(data['sex'])"
      ],
      "execution_count": 0,
      "outputs": []
    },
    {
      "cell_type": "code",
      "metadata": {
        "id": "fKF1S5V1PvVr",
        "colab_type": "code",
        "colab": {}
      },
      "source": [
        "embarked = pd.get_dummies(data['embarked'])\n",
        "pclass = pd.get_dummies(data['pclass'])"
      ],
      "execution_count": 0,
      "outputs": []
    },
    {
      "cell_type": "markdown",
      "metadata": {
        "id": "yhrsgPKEP-wL",
        "colab_type": "text"
      },
      "source": [
        "#concatnating these dummies"
      ]
    },
    {
      "cell_type": "code",
      "metadata": {
        "id": "YoPdn4fhP7-L",
        "colab_type": "code",
        "colab": {}
      },
      "source": [
        "titanic_new = pd.concat([sex,embarked,pclass],axis=1)"
      ],
      "execution_count": 0,
      "outputs": []
    },
    {
      "cell_type": "code",
      "metadata": {
        "id": "0N2Yz0o9QU7A",
        "colab_type": "code",
        "colab": {}
      },
      "source": [
        "age = data['age'].fillna(data.age.mean())\n",
        "fare = data['fare'].fillna(data.fare.mean())\n",
        "titanic_new = pd.concat([titanic_new,fare,age],axis=1)"
      ],
      "execution_count": 0,
      "outputs": []
    },
    {
      "cell_type": "code",
      "metadata": {
        "id": "8QV9tLbJQXD4",
        "colab_type": "code",
        "colab": {}
      },
      "source": [
        "#NOTE: we can use drop_first=True to remove first column"
      ],
      "execution_count": 0,
      "outputs": []
    },
    {
      "cell_type": "markdown",
      "metadata": {
        "id": "1Lz9XPbvQufy",
        "colab_type": "text"
      },
      "source": [
        "#Normalizing the Data "
      ]
    },
    {
      "cell_type": "code",
      "metadata": {
        "id": "SQwBW1ETQgzW",
        "colab_type": "code",
        "colab": {}
      },
      "source": [
        "age = (age - age.mean())/age.std()\n",
        "fare = (fare - fare.mean())/fare.std()"
      ],
      "execution_count": 0,
      "outputs": []
    },
    {
      "cell_type": "code",
      "metadata": {
        "id": "m7I-Xpe6QtOa",
        "colab_type": "code",
        "colab": {
          "base_uri": "https://localhost:8080/",
          "height": 34
        },
        "outputId": "ccba57b1-de09-46ae-be89-d5a8545b37ce"
      },
      "source": [
        "age.mean()"
      ],
      "execution_count": 51,
      "outputs": [
        {
          "output_type": "execute_result",
          "data": {
            "text/plain": [
              "2.3382535191666113e-15"
            ]
          },
          "metadata": {
            "tags": []
          },
          "execution_count": 51
        }
      ]
    },
    {
      "cell_type": "code",
      "metadata": {
        "id": "5UsDOO0rRPR7",
        "colab_type": "code",
        "colab": {}
      },
      "source": [
        "#we can see that the new mean is close to 0"
      ],
      "execution_count": 0,
      "outputs": []
    },
    {
      "cell_type": "markdown",
      "metadata": {
        "id": "ilRgsrNCRakz",
        "colab_type": "text"
      },
      "source": [
        "#Visualization of Data"
      ]
    },
    {
      "cell_type": "markdown",
      "metadata": {
        "id": "SKbJ1cEhRoSC",
        "colab_type": "text"
      },
      "source": [
        "\"SINE WAVE\""
      ]
    },
    {
      "cell_type": "code",
      "metadata": {
        "id": "XcPVJezGRXIQ",
        "colab_type": "code",
        "colab": {
          "base_uri": "https://localhost:8080/",
          "height": 609
        },
        "outputId": "30ceb463-506f-4c76-b0e6-26a66d999688"
      },
      "source": [
        "x = np.linspace(-3*np.pi,3*np.pi,300)\n",
        "y = np.sin(x)\n",
        "plt.figure(figsize=(10,10))\n",
        "plt.plot(x,y)\n",
        "plt.title(r'$\\sin(x)$')\n",
        "plt.show()"
      ],
      "execution_count": 53,
      "outputs": [
        {
          "output_type": "display_data",
          "data": {
            "image/png": "[encoded data removed]",
            "text/plain": [
              "<Figure size 720x720 with 1 Axes>"
            ]
          },
          "metadata": {
            "tags": [],
            "needs_background": "light"
          }
        }
      ]
    },
    {
      "cell_type": "code",
      "metadata": {
        "id": "rvZUl3UlRrHf",
        "colab_type": "code",
        "colab": {
          "base_uri": "https://localhost:8080/",
          "height": 281
        },
        "outputId": "d6c9a8a0-7029-434b-d6be-a5dd105fceaf"
      },
      "source": [
        "age.plot(kind='line')"
      ],
      "execution_count": 54,
      "outputs": [
        {
          "output_type": "execute_result",
          "data": {
            "text/plain": [
              "<matplotlib.axes._subplots.AxesSubplot at 0x7efca133ed68>"
            ]
          },
          "metadata": {
            "tags": []
          },
          "execution_count": 54
        },
        {
          "output_type": "display_data",
          "data": {
            "image/png": "[encoded data removed]",
            "text/plain": [
              "<Figure size 432x288 with 1 Axes>"
            ]
          },
          "metadata": {
            "tags": [],
            "needs_background": "light"
          }
        }
      ]
    },
    {
      "cell_type": "markdown",
      "metadata": {
        "id": "NCMjj4pbSNxb",
        "colab_type": "text"
      },
      "source": [
        "#THANKS"
      ]
    }
  ]
}